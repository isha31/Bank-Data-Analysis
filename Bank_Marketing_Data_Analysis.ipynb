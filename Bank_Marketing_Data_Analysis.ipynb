{
 "cells": [
  {
   "cell_type": "code",
   "execution_count": 1,
   "metadata": {},
   "outputs": [],
   "source": [
    "import pandas as pd\n",
    "import numpy as np\n",
    "import matplotlib.pyplot as plt\n",
    "from sklearn.model_selection import train_test_split,GridSearchCV\n",
    "from sklearn.preprocessing import LabelEncoder,MinMaxScaler\n",
    "from sklearn.impute import SimpleImputer\n",
    "from imblearn.combine import SMOTEENN\n",
    "from imblearn.over_sampling import SMOTE\n",
    "from sklearn.decomposition import PCA\n",
    "from sklearn.ensemble import RandomForestClassifier\n",
    "from sklearn.svm import SVC\n",
    "from sklearn.naive_bayes import GaussianNB\n",
    "from sklearn.neighbors import KNeighborsClassifier\n",
    "from sklearn import linear_model\n",
    "from sklearn.metrics import roc_curve, auc, classification_report,f1_score, roc_auc_score, confusion_matrix\n",
    "import itertools"
   ]
  },
  {
   "cell_type": "code",
   "execution_count": 2,
   "metadata": {},
   "outputs": [],
   "source": [
    "df = pd.read_csv('/home/isha/my_projects/bank-additional.csv')"
   ]
  },
  {
   "cell_type": "code",
   "execution_count": 3,
   "metadata": {},
   "outputs": [
    {
     "data": {
      "text/html": [
       "<div>\n",
       "<style scoped>\n",
       "    .dataframe tbody tr th:only-of-type {\n",
       "        vertical-align: middle;\n",
       "    }\n",
       "\n",
       "    .dataframe tbody tr th {\n",
       "        vertical-align: top;\n",
       "    }\n",
       "\n",
       "    .dataframe thead th {\n",
       "        text-align: right;\n",
       "    }\n",
       "</style>\n",
       "<table border=\"1\" class=\"dataframe\">\n",
       "  <thead>\n",
       "    <tr style=\"text-align: right;\">\n",
       "      <th></th>\n",
       "      <th>age</th>\n",
       "      <th>job</th>\n",
       "      <th>marital</th>\n",
       "      <th>education</th>\n",
       "      <th>default</th>\n",
       "      <th>housing</th>\n",
       "      <th>loan</th>\n",
       "      <th>contact</th>\n",
       "      <th>month</th>\n",
       "      <th>day_of_week</th>\n",
       "      <th>campaign</th>\n",
       "      <th>pdays</th>\n",
       "      <th>previous</th>\n",
       "      <th>poutcome</th>\n",
       "      <th>emp.var.rate</th>\n",
       "      <th>cons.price.idx</th>\n",
       "      <th>cons.conf.idx</th>\n",
       "      <th>euribor3m</th>\n",
       "      <th>nr.employed</th>\n",
       "      <th>y</th>\n",
       "    </tr>\n",
       "  </thead>\n",
       "  <tbody>\n",
       "    <tr>\n",
       "      <th>0</th>\n",
       "      <td>30</td>\n",
       "      <td>blue-collar</td>\n",
       "      <td>married</td>\n",
       "      <td>basic.9y</td>\n",
       "      <td>no</td>\n",
       "      <td>yes</td>\n",
       "      <td>no</td>\n",
       "      <td>cellular</td>\n",
       "      <td>may</td>\n",
       "      <td>fri</td>\n",
       "      <td>2</td>\n",
       "      <td>999</td>\n",
       "      <td>0</td>\n",
       "      <td>nonexistent</td>\n",
       "      <td>-1.8</td>\n",
       "      <td>92.893</td>\n",
       "      <td>-46.2</td>\n",
       "      <td>1.313</td>\n",
       "      <td>5099.1</td>\n",
       "      <td>no</td>\n",
       "    </tr>\n",
       "    <tr>\n",
       "      <th>1</th>\n",
       "      <td>39</td>\n",
       "      <td>services</td>\n",
       "      <td>single</td>\n",
       "      <td>high.school</td>\n",
       "      <td>no</td>\n",
       "      <td>no</td>\n",
       "      <td>no</td>\n",
       "      <td>telephone</td>\n",
       "      <td>may</td>\n",
       "      <td>fri</td>\n",
       "      <td>4</td>\n",
       "      <td>999</td>\n",
       "      <td>0</td>\n",
       "      <td>nonexistent</td>\n",
       "      <td>1.1</td>\n",
       "      <td>93.994</td>\n",
       "      <td>-36.4</td>\n",
       "      <td>4.855</td>\n",
       "      <td>5191.0</td>\n",
       "      <td>no</td>\n",
       "    </tr>\n",
       "    <tr>\n",
       "      <th>2</th>\n",
       "      <td>25</td>\n",
       "      <td>services</td>\n",
       "      <td>married</td>\n",
       "      <td>high.school</td>\n",
       "      <td>no</td>\n",
       "      <td>yes</td>\n",
       "      <td>no</td>\n",
       "      <td>telephone</td>\n",
       "      <td>jun</td>\n",
       "      <td>wed</td>\n",
       "      <td>1</td>\n",
       "      <td>999</td>\n",
       "      <td>0</td>\n",
       "      <td>nonexistent</td>\n",
       "      <td>1.4</td>\n",
       "      <td>94.465</td>\n",
       "      <td>-41.8</td>\n",
       "      <td>4.962</td>\n",
       "      <td>5228.1</td>\n",
       "      <td>no</td>\n",
       "    </tr>\n",
       "    <tr>\n",
       "      <th>3</th>\n",
       "      <td>38</td>\n",
       "      <td>services</td>\n",
       "      <td>married</td>\n",
       "      <td>basic.9y</td>\n",
       "      <td>no</td>\n",
       "      <td>unknown</td>\n",
       "      <td>unknown</td>\n",
       "      <td>telephone</td>\n",
       "      <td>jun</td>\n",
       "      <td>fri</td>\n",
       "      <td>3</td>\n",
       "      <td>999</td>\n",
       "      <td>0</td>\n",
       "      <td>nonexistent</td>\n",
       "      <td>1.4</td>\n",
       "      <td>94.465</td>\n",
       "      <td>-41.8</td>\n",
       "      <td>4.959</td>\n",
       "      <td>5228.1</td>\n",
       "      <td>no</td>\n",
       "    </tr>\n",
       "    <tr>\n",
       "      <th>4</th>\n",
       "      <td>47</td>\n",
       "      <td>admin.</td>\n",
       "      <td>married</td>\n",
       "      <td>university.degree</td>\n",
       "      <td>no</td>\n",
       "      <td>yes</td>\n",
       "      <td>no</td>\n",
       "      <td>cellular</td>\n",
       "      <td>nov</td>\n",
       "      <td>mon</td>\n",
       "      <td>1</td>\n",
       "      <td>999</td>\n",
       "      <td>0</td>\n",
       "      <td>nonexistent</td>\n",
       "      <td>-0.1</td>\n",
       "      <td>93.200</td>\n",
       "      <td>-42.0</td>\n",
       "      <td>4.191</td>\n",
       "      <td>5195.8</td>\n",
       "      <td>no</td>\n",
       "    </tr>\n",
       "  </tbody>\n",
       "</table>\n",
       "</div>"
      ],
      "text/plain": [
       "   age          job  marital          education default  housing     loan  \\\n",
       "0   30  blue-collar  married           basic.9y      no      yes       no   \n",
       "1   39     services   single        high.school      no       no       no   \n",
       "2   25     services  married        high.school      no      yes       no   \n",
       "3   38     services  married           basic.9y      no  unknown  unknown   \n",
       "4   47       admin.  married  university.degree      no      yes       no   \n",
       "\n",
       "     contact month day_of_week  campaign  pdays  previous     poutcome  \\\n",
       "0   cellular   may         fri         2    999         0  nonexistent   \n",
       "1  telephone   may         fri         4    999         0  nonexistent   \n",
       "2  telephone   jun         wed         1    999         0  nonexistent   \n",
       "3  telephone   jun         fri         3    999         0  nonexistent   \n",
       "4   cellular   nov         mon         1    999         0  nonexistent   \n",
       "\n",
       "   emp.var.rate  cons.price.idx  cons.conf.idx  euribor3m  nr.employed   y  \n",
       "0          -1.8          92.893          -46.2      1.313       5099.1  no  \n",
       "1           1.1          93.994          -36.4      4.855       5191.0  no  \n",
       "2           1.4          94.465          -41.8      4.962       5228.1  no  \n",
       "3           1.4          94.465          -41.8      4.959       5228.1  no  \n",
       "4          -0.1          93.200          -42.0      4.191       5195.8  no  "
      ]
     },
     "execution_count": 3,
     "metadata": {},
     "output_type": "execute_result"
    }
   ],
   "source": [
    "df.head(5)"
   ]
  },
  {
   "cell_type": "code",
   "execution_count": 4,
   "metadata": {},
   "outputs": [
    {
     "data": {
      "image/png": "[encoded data removed]",
      "text/plain": [
       "<Figure size 720x432 with 1 Axes>"
      ]
     },
     "metadata": {},
     "output_type": "display_data"
    },
    {
     "data": {
      "text/plain": [
       "<Figure size 432x288 with 0 Axes>"
      ]
     },
     "metadata": {},
     "output_type": "display_data"
    },
    {
     "data": {
      "image/png": "[encoded data removed]",
      "text/plain": [
       "<Figure size 720x432 with 1 Axes>"
      ]
     },
     "metadata": {},
     "output_type": "display_data"
    },
    {
     "data": {
      "text/plain": [
       "<Figure size 432x288 with 0 Axes>"
      ]
     },
     "metadata": {},
     "output_type": "display_data"
    },
    {
     "data": {
      "image/png": "[encoded data removed]",
      "text/plain": [
       "<Figure size 720x432 with 1 Axes>"
      ]
     },
     "metadata": {},
     "output_type": "display_data"
    },
    {
     "data": {
      "text/plain": [
       "<Figure size 432x288 with 0 Axes>"
      ]
     },
     "metadata": {},
     "output_type": "display_data"
    },
    {
     "data": {
      "image/png": "[encoded data removed]",
      "text/plain": [
       "<Figure size 720x432 with 1 Axes>"
      ]
     },
     "metadata": {},
     "output_type": "display_data"
    },
    {
     "data": {
      "text/plain": [
       "<Figure size 432x288 with 0 Axes>"
      ]
     },
     "metadata": {},
     "output_type": "display_data"
    },
    {
     "data": {
      "image/png": "[encoded data removed]",
      "text/plain": [
       "<Figure size 720x432 with 1 Axes>"
      ]
     },
     "metadata": {},
     "output_type": "display_data"
    },
    {
     "data": {
      "text/plain": [
       "<Figure size 432x288 with 0 Axes>"
      ]
     },
     "metadata": {},
     "output_type": "display_data"
    },
    {
     "data": {
      "image/png": "[encoded data removed]",
      "text/plain": [
       "<Figure size 720x432 with 1 Axes>"
      ]
     },
     "metadata": {},
     "output_type": "display_data"
    },
    {
     "data": {
      "text/plain": [
       "<Figure size 432x288 with 0 Axes>"
      ]
     },
     "metadata": {},
     "output_type": "display_data"
    },
    {
     "data": {
      "image/png": "[encoded data removed]",
      "text/plain": [
       "<Figure size 720x432 with 1 Axes>"
      ]
     },
     "metadata": {},
     "output_type": "display_data"
    },
    {
     "data": {
      "text/plain": [
       "<Figure size 432x288 with 0 Axes>"
      ]
     },
     "metadata": {},
     "output_type": "display_data"
    },
    {
     "data": {
      "image/png": "[encoded data removed]",
      "text/plain": [
       "<Figure size 720x432 with 1 Axes>"
      ]
     },
     "metadata": {},
     "output_type": "display_data"
    },
    {
     "data": {
      "text/plain": [
       "<Figure size 432x288 with 0 Axes>"
      ]
     },
     "metadata": {},
     "output_type": "display_data"
    },
    {
     "data": {
      "image/png": "[encoded data removed]",
      "text/plain": [
       "<Figure size 720x432 with 1 Axes>"
      ]
     },
     "metadata": {},
     "output_type": "display_data"
    },
    {
     "data": {
      "text/plain": [
       "<Figure size 432x288 with 0 Axes>"
      ]
     },
     "metadata": {},
     "output_type": "display_data"
    }
   ],
   "source": [
    "numerical = ['age','campaign','previous', 'emp.var.rate', 'cons.price.idx', 'cons.conf.idx', 'euribor3m', 'nr.employed', 'pdays']\n",
    "for i in numerical:\n",
    "    df[i].value_counts().plot(kind='hist',figsize = (10, 6),title='Histogram plot of '+i)\n",
    "    plt.figure()\n",
    "    plt.show()"
   ]
  },
  {
   "cell_type": "markdown",
   "metadata": {},
   "source": [
    "Visualisation of numerical to find out outliers using boxplot"
   ]
  },
  {
   "cell_type": "code",
   "execution_count": 5,
   "metadata": {},
   "outputs": [
    {
     "data": {
      "image/png": "[encoded data removed]",
      "text/plain": [
       "<Figure size 432x288 with 1 Axes>"
      ]
     },
     "metadata": {},
     "output_type": "display_data"
    },
    {
     "data": {
      "text/plain": [
       "<Figure size 432x288 with 0 Axes>"
      ]
     },
     "metadata": {},
     "output_type": "display_data"
    },
    {
     "data": {
      "image/png": "[encoded data removed]",
      "text/plain": [
       "<Figure size 432x288 with 1 Axes>"
      ]
     },
     "metadata": {},
     "output_type": "display_data"
    },
    {
     "data": {
      "text/plain": [
       "<Figure size 432x288 with 0 Axes>"
      ]
     },
     "metadata": {},
     "output_type": "display_data"
    },
    {
     "data": {
      "image/png": "[encoded data removed]",
      "text/plain": [
       "<Figure size 432x288 with 1 Axes>"
      ]
     },
     "metadata": {},
     "output_type": "display_data"
    },
    {
     "data": {
      "text/plain": [
       "<Figure size 432x288 with 0 Axes>"
      ]
     },
     "metadata": {},
     "output_type": "display_data"
    },
    {
     "data": {
      "image/png": "[encoded data removed]",
      "text/plain": [
       "<Figure size 432x288 with 1 Axes>"
      ]
     },
     "metadata": {},
     "output_type": "display_data"
    },
    {
     "data": {
      "text/plain": [
       "<Figure size 432x288 with 0 Axes>"
      ]
     },
     "metadata": {},
     "output_type": "display_data"
    },
    {
     "data": {
      "image/png": "[encoded data removed]",
      "text/plain": [
       "<Figure size 432x288 with 1 Axes>"
      ]
     },
     "metadata": {},
     "output_type": "display_data"
    },
    {
     "data": {
      "text/plain": [
       "<Figure size 432x288 with 0 Axes>"
      ]
     },
     "metadata": {},
     "output_type": "display_data"
    },
    {
     "data": {
      "image/png": "[encoded data removed]",
      "text/plain": [
       "<Figure size 432x288 with 1 Axes>"
      ]
     },
     "metadata": {},
     "output_type": "display_data"
    },
    {
     "data": {
      "text/plain": [
       "<Figure size 432x288 with 0 Axes>"
      ]
     },
     "metadata": {},
     "output_type": "display_data"
    },
    {
     "data": {
      "image/png": "[encoded data removed]",
      "text/plain": [
       "<Figure size 432x288 with 1 Axes>"
      ]
     },
     "metadata": {},
     "output_type": "display_data"
    },
    {
     "data": {
      "text/plain": [
       "<Figure size 432x288 with 0 Axes>"
      ]
     },
     "metadata": {},
     "output_type": "display_data"
    },
    {
     "data": {
      "image/png": "[encoded data removed]",
      "text/plain": [
       "<Figure size 432x288 with 1 Axes>"
      ]
     },
     "metadata": {},
     "output_type": "display_data"
    },
    {
     "data": {
      "text/plain": [
       "<Figure size 432x288 with 0 Axes>"
      ]
     },
     "metadata": {},
     "output_type": "display_data"
    },
    {
     "data": {
      "image/png": "[encoded data removed]",
      "text/plain": [
       "<Figure size 432x288 with 1 Axes>"
      ]
     },
     "metadata": {},
     "output_type": "display_data"
    },
    {
     "data": {
      "text/plain": [
       "<Figure size 432x288 with 0 Axes>"
      ]
     },
     "metadata": {},
     "output_type": "display_data"
    },
    {
     "data": {
      "image/png": "[encoded data removed]",
      "text/plain": [
       "<Figure size 432x288 with 1 Axes>"
      ]
     },
     "metadata": {},
     "output_type": "display_data"
    }
   ],
   "source": [
    "for i in numerical:\n",
    "    plt.boxplot(df[i])\n",
    "    plt.figure()\n",
    "    plt.show()\n",
    "    plt.title('Boxplot of :' +i)"
   ]
  },
  {
   "cell_type": "markdown",
   "metadata": {},
   "source": [
    "Dropping 3 features"
   ]
  },
  {
   "cell_type": "code",
   "execution_count": 6,
   "metadata": {},
   "outputs": [],
   "source": [
    "df = df.drop(labels=['pdays','default'],axis=1)"
   ]
  },
  {
   "cell_type": "code",
   "execution_count": 7,
   "metadata": {},
   "outputs": [],
   "source": [
    "df = df[df['education'].str.lower() != 'illiterate']"
   ]
  },
  {
   "cell_type": "code",
   "execution_count": 8,
   "metadata": {},
   "outputs": [
    {
     "name": "stdout",
     "output_type": "stream",
     "text": [
      "4118\n"
     ]
    }
   ],
   "source": [
    "print(df['education'].count())"
   ]
  },
  {
   "cell_type": "markdown",
   "metadata": {},
   "source": [
    "Removing outliers from age, campaign, cons.conf.idx"
   ]
  },
  {
   "cell_type": "code",
   "execution_count": 9,
   "metadata": {},
   "outputs": [],
   "source": [
    "df = df[df['age'] < 69]\n",
    "df = df[df['campaign'] < 20]\n",
    "df = df[df['cons.conf.idx'] < -29]"
   ]
  },
  {
   "cell_type": "code",
   "execution_count": 10,
   "metadata": {},
   "outputs": [
    {
     "name": "stdout",
     "output_type": "stream",
     "text": [
      "age               4030\n",
      "job               4030\n",
      "marital           4030\n",
      "education         4030\n",
      "housing           4030\n",
      "loan              4030\n",
      "contact           4030\n",
      "month             4030\n",
      "day_of_week       4030\n",
      "campaign          4030\n",
      "previous          4030\n",
      "poutcome          4030\n",
      "emp.var.rate      4030\n",
      "cons.price.idx    4030\n",
      "cons.conf.idx     4030\n",
      "euribor3m         4030\n",
      "nr.employed       4030\n",
      "y                 4030\n",
      "dtype: int64\n"
     ]
    }
   ],
   "source": [
    "print(df.count())"
   ]
  },
  {
   "cell_type": "markdown",
   "metadata": {},
   "source": [
    "Label Encoding the features"
   ]
  },
  {
   "cell_type": "code",
   "execution_count": 11,
   "metadata": {},
   "outputs": [
    {
     "data": {
      "text/html": [
       "<div>\n",
       "<style scoped>\n",
       "    .dataframe tbody tr th:only-of-type {\n",
       "        vertical-align: middle;\n",
       "    }\n",
       "\n",
       "    .dataframe tbody tr th {\n",
       "        vertical-align: top;\n",
       "    }\n",
       "\n",
       "    .dataframe thead th {\n",
       "        text-align: right;\n",
       "    }\n",
       "</style>\n",
       "<table border=\"1\" class=\"dataframe\">\n",
       "  <thead>\n",
       "    <tr style=\"text-align: right;\">\n",
       "      <th></th>\n",
       "      <th>age</th>\n",
       "      <th>job</th>\n",
       "      <th>marital</th>\n",
       "      <th>education</th>\n",
       "      <th>housing</th>\n",
       "      <th>loan</th>\n",
       "      <th>contact</th>\n",
       "      <th>month</th>\n",
       "      <th>day_of_week</th>\n",
       "      <th>campaign</th>\n",
       "      <th>previous</th>\n",
       "      <th>poutcome</th>\n",
       "      <th>emp.var.rate</th>\n",
       "      <th>cons.price.idx</th>\n",
       "      <th>cons.conf.idx</th>\n",
       "      <th>euribor3m</th>\n",
       "      <th>nr.employed</th>\n",
       "      <th>y</th>\n",
       "    </tr>\n",
       "  </thead>\n",
       "  <tbody>\n",
       "    <tr>\n",
       "      <th>0</th>\n",
       "      <td>30</td>\n",
       "      <td>1</td>\n",
       "      <td>1</td>\n",
       "      <td>2</td>\n",
       "      <td>2</td>\n",
       "      <td>0</td>\n",
       "      <td>cellular</td>\n",
       "      <td>6</td>\n",
       "      <td>0</td>\n",
       "      <td>2</td>\n",
       "      <td>0</td>\n",
       "      <td>nonexistent</td>\n",
       "      <td>-1.8</td>\n",
       "      <td>92.893</td>\n",
       "      <td>-46.2</td>\n",
       "      <td>1.313</td>\n",
       "      <td>5099.1</td>\n",
       "      <td>0</td>\n",
       "    </tr>\n",
       "    <tr>\n",
       "      <th>1</th>\n",
       "      <td>39</td>\n",
       "      <td>7</td>\n",
       "      <td>2</td>\n",
       "      <td>3</td>\n",
       "      <td>0</td>\n",
       "      <td>0</td>\n",
       "      <td>telephone</td>\n",
       "      <td>6</td>\n",
       "      <td>0</td>\n",
       "      <td>4</td>\n",
       "      <td>0</td>\n",
       "      <td>nonexistent</td>\n",
       "      <td>1.1</td>\n",
       "      <td>93.994</td>\n",
       "      <td>-36.4</td>\n",
       "      <td>4.855</td>\n",
       "      <td>5191.0</td>\n",
       "      <td>0</td>\n",
       "    </tr>\n",
       "    <tr>\n",
       "      <th>2</th>\n",
       "      <td>25</td>\n",
       "      <td>7</td>\n",
       "      <td>1</td>\n",
       "      <td>3</td>\n",
       "      <td>2</td>\n",
       "      <td>0</td>\n",
       "      <td>telephone</td>\n",
       "      <td>4</td>\n",
       "      <td>4</td>\n",
       "      <td>1</td>\n",
       "      <td>0</td>\n",
       "      <td>nonexistent</td>\n",
       "      <td>1.4</td>\n",
       "      <td>94.465</td>\n",
       "      <td>-41.8</td>\n",
       "      <td>4.962</td>\n",
       "      <td>5228.1</td>\n",
       "      <td>0</td>\n",
       "    </tr>\n",
       "    <tr>\n",
       "      <th>3</th>\n",
       "      <td>38</td>\n",
       "      <td>7</td>\n",
       "      <td>1</td>\n",
       "      <td>2</td>\n",
       "      <td>1</td>\n",
       "      <td>1</td>\n",
       "      <td>telephone</td>\n",
       "      <td>4</td>\n",
       "      <td>0</td>\n",
       "      <td>3</td>\n",
       "      <td>0</td>\n",
       "      <td>nonexistent</td>\n",
       "      <td>1.4</td>\n",
       "      <td>94.465</td>\n",
       "      <td>-41.8</td>\n",
       "      <td>4.959</td>\n",
       "      <td>5228.1</td>\n",
       "      <td>0</td>\n",
       "    </tr>\n",
       "    <tr>\n",
       "      <th>4</th>\n",
       "      <td>47</td>\n",
       "      <td>0</td>\n",
       "      <td>1</td>\n",
       "      <td>5</td>\n",
       "      <td>2</td>\n",
       "      <td>0</td>\n",
       "      <td>cellular</td>\n",
       "      <td>7</td>\n",
       "      <td>1</td>\n",
       "      <td>1</td>\n",
       "      <td>0</td>\n",
       "      <td>nonexistent</td>\n",
       "      <td>-0.1</td>\n",
       "      <td>93.200</td>\n",
       "      <td>-42.0</td>\n",
       "      <td>4.191</td>\n",
       "      <td>5195.8</td>\n",
       "      <td>0</td>\n",
       "    </tr>\n",
       "  </tbody>\n",
       "</table>\n",
       "</div>"
      ],
      "text/plain": [
       "   age  job  marital  education  housing  loan    contact  month  day_of_week  \\\n",
       "0   30    1        1          2        2     0   cellular      6            0   \n",
       "1   39    7        2          3        0     0  telephone      6            0   \n",
       "2   25    7        1          3        2     0  telephone      4            4   \n",
       "3   38    7        1          2        1     1  telephone      4            0   \n",
       "4   47    0        1          5        2     0   cellular      7            1   \n",
       "\n",
       "   campaign  previous     poutcome  emp.var.rate  cons.price.idx  \\\n",
       "0         2         0  nonexistent          -1.8          92.893   \n",
       "1         4         0  nonexistent           1.1          93.994   \n",
       "2         1         0  nonexistent           1.4          94.465   \n",
       "3         3         0  nonexistent           1.4          94.465   \n",
       "4         1         0  nonexistent          -0.1          93.200   \n",
       "\n",
       "   cons.conf.idx  euribor3m  nr.employed  y  \n",
       "0          -46.2      1.313       5099.1  0  \n",
       "1          -36.4      4.855       5191.0  0  \n",
       "2          -41.8      4.962       5228.1  0  \n",
       "3          -41.8      4.959       5228.1  0  \n",
       "4          -42.0      4.191       5195.8  0  "
      ]
     },
     "execution_count": 11,
     "metadata": {},
     "output_type": "execute_result"
    }
   ],
   "source": [
    "le = LabelEncoder()\n",
    "features = ['job','marital','education', 'month', 'day_of_week', 'housing', 'loan']\n",
    "for i in features:\n",
    "    df[i] = le.fit_transform(df[i])\n",
    "df.y.replace(('yes','no'),(1,0),inplace=True)\n",
    "df.head(5)"
   ]
  },
  {
   "cell_type": "markdown",
   "metadata": {},
   "source": [
    "Bifurcating features and labels"
   ]
  },
  {
   "cell_type": "code",
   "execution_count": 12,
   "metadata": {},
   "outputs": [],
   "source": [
    "y = df['y']\n",
    "X = df.drop('y', axis=1)\n",
    "X_train, X_test, y_train, y_test = train_test_split(X, y, test_size = 0.25, random_state = 0)"
   ]
  },
  {
   "cell_type": "markdown",
   "metadata": {},
   "source": [
    "Imputing mode value in 5 categorical features for train and test data"
   ]
  },
  {
   "cell_type": "code",
   "execution_count": 13,
   "metadata": {},
   "outputs": [
    {
     "data": {
      "text/plain": [
       "array([[0],\n",
       "       [0],\n",
       "       [0],\n",
       "       ...,\n",
       "       [0],\n",
       "       [0],\n",
       "       [0]])"
      ]
     },
     "execution_count": 13,
     "metadata": {},
     "output_type": "execute_result"
    }
   ],
   "source": [
    "imp = SimpleImputer(missing_values = 12, strategy=\"most_frequent\", copy=False)\n",
    "imp.fit_transform(X_train['job'].values.reshape(-1,1))\n",
    "imp = SimpleImputer(missing_values = 12, strategy=\"most_frequent\", copy=False)\n",
    "imp.fit_transform(X_test['job'].values.reshape(-1,1))\n",
    "\n",
    "imp = SimpleImputer(missing_values = 4, strategy=\"most_frequent\", copy=False)\n",
    "imp.fit_transform(X_train['marital'].values.reshape(-1,1))\n",
    "imp = SimpleImputer(missing_values = 4, strategy=\"most_frequent\", copy=False)\n",
    "imp.fit_transform(X_test['marital'].values.reshape(-1,1))\n",
    "\n",
    "imp = SimpleImputer(missing_values = 8, strategy=\"most_frequent\", copy=False)\n",
    "imp.fit_transform(X_train['education'].values.reshape(-1,1))\n",
    "imp = SimpleImputer(missing_values = 8, strategy=\"most_frequent\", copy=False)\n",
    "imp.fit_transform(X_test['education'].values.reshape(-1,1))\n",
    "\n",
    "imp = SimpleImputer(missing_values = 2, strategy=\"most_frequent\", copy=False)\n",
    "imp.fit_transform(X_train['housing'].values.reshape(-1,1))\n",
    "imp = SimpleImputer(missing_values = 2, strategy=\"most_frequent\", copy=False)\n",
    "imp.fit_transform(X_test['housing'].values.reshape(-1,1))\n",
    "\n",
    "imp = SimpleImputer(missing_values = 2, strategy=\"most_frequent\", copy=False)\n",
    "imp.fit_transform(X_train['loan'].values.reshape(-1,1))\n",
    "imp = SimpleImputer(missing_values = 2, strategy=\"most_frequent\", copy=False)\n",
    "imp.fit_transform(X_test['loan'].values.reshape(-1,1))"
   ]
  },
  {
   "cell_type": "markdown",
   "metadata": {},
   "source": [
    "Replacing missing data by one hot encoding"
   ]
  },
  {
   "cell_type": "code",
   "execution_count": 14,
   "metadata": {},
   "outputs": [],
   "source": [
    "one_hot_1=pd.get_dummies(df['job'],prefix='job')\n",
    "X_train = X_train.join(one_hot_1)\n",
    "X_train = X_train.drop('job', axis=1)\n",
    "\n",
    "one_hot_test_1=pd.get_dummies(df['job'],prefix='job')\n",
    "X_test=X_test.join(one_hot_test_1)\n",
    "X_test=X_test.drop('job',axis=1)\n",
    "\n",
    "one_hot_2=pd.get_dummies(df['marital'],prefix='marital')\n",
    "X_train=X_train.join(one_hot_2)\n",
    "X_train=X_train.drop('marital',axis=1)\n",
    "\n",
    "one_hot_test_2=pd.get_dummies(df['marital'],prefix='marital')\n",
    "X_test=X_test.join(one_hot_test_2)\n",
    "X_test=X_test.drop('marital',axis=1)\n",
    "\n",
    "one_hot_3=pd.get_dummies(df['education'],prefix='education')\n",
    "X_train=X_train.join(one_hot_3)\n",
    "X_train=X_train.drop('education',axis=1)\n",
    "\n",
    "one_hot_test_3=pd.get_dummies(df['education'],prefix='education')\n",
    "X_test=X_test.join(one_hot_test_3)\n",
    "X_test=X_test.drop('education',axis=1)\n",
    "\n",
    "one_hot_4=pd.get_dummies(df['housing'],prefix='housing')\n",
    "X_train=X_train.join(one_hot_4)\n",
    "X_train=X_train.drop('housing',axis=1)\n",
    "\n",
    "one_hot_test_4=pd.get_dummies(df['housing'],prefix='housing')\n",
    "X_test=X_test.join(one_hot_test_4)\n",
    "X_test=X_test.drop('housing',axis=1)\n",
    "\n",
    "one_hot_5=pd.get_dummies(df['loan'],prefix='loan')\n",
    "X_train=X_train.join(one_hot_5)\n",
    "X_train=X_train.drop('loan',axis=1)\n",
    "\n",
    "one_hot_test_5=pd.get_dummies(df['loan'],prefix='loan')\n",
    "X_test=X_test.join(one_hot_test_5)\n",
    "X_test=X_test.drop('loan',axis=1)\n",
    "\n",
    "one_hot_7=pd.get_dummies(df['poutcome'])\n",
    "X_train=X_train.join(one_hot_7)\n",
    "X_train=X_train.drop('poutcome',axis=1)\n",
    "\n",
    "one_hot_test_7=pd.get_dummies(df['poutcome'],prefix='poutcome')\n",
    "X_test=X_test.join(one_hot_test_7)\n",
    "X_test=X_test.drop('poutcome',axis=1)\n",
    "\n",
    "one_hot_8=pd.get_dummies(df['contact'])\n",
    "X_train=X_train.join(one_hot_8)\n",
    "X_train=X_train.drop('contact',axis=1)\n",
    "\n",
    "one_hot_test_8=pd.get_dummies(df['contact'],prefix='contact')\n",
    "X_test=X_test.join(one_hot_test_8)\n",
    "X_test=X_test.drop('contact',axis=1)"
   ]
  },
  {
   "cell_type": "markdown",
   "metadata": {},
   "source": [
    "Smote Analysis for oversampling data"
   ]
  },
  {
   "cell_type": "code",
   "execution_count": 15,
   "metadata": {},
   "outputs": [
    {
     "data": {
      "image/png": "[encoded data removed]",
      "text/plain": [
       "<Figure size 432x288 with 1 Axes>"
      ]
     },
     "metadata": {},
     "output_type": "display_data"
    }
   ],
   "source": [
    "y_train.value_counts().plot(kind='bar', title='Output class distribution')\n",
    "plt.xlabel('Class')\n",
    "plt.ylabel('Count')\n",
    "plt.show()"
   ]
  },
  {
   "cell_type": "code",
   "execution_count": 16,
   "metadata": {},
   "outputs": [],
   "source": [
    "smote = SMOTE(random_state=0)\n",
    "X_train_res, y_train_res = smote.fit_sample(X_train, y_train)"
   ]
  },
  {
   "cell_type": "markdown",
   "metadata": {},
   "source": [
    "Standardization of data"
   ]
  },
  {
   "cell_type": "code",
   "execution_count": 17,
   "metadata": {},
   "outputs": [],
   "source": [
    "scalar = MinMaxScaler()\n",
    "scalar.fit(X_train_res)\n",
    "X_train = scalar.transform(X_train_res)\n",
    "X_test = scalar.transform(X_test)"
   ]
  },
  {
   "cell_type": "markdown",
   "metadata": {},
   "source": [
    "Principal Component Analysis to reduce dimensionality"
   ]
  },
  {
   "cell_type": "code",
   "execution_count": 18,
   "metadata": {},
   "outputs": [],
   "source": [
    "#pca = PCA(n_components = 13)\n",
    "#X_train=pca.fit_transform(X_train)\n",
    "#pca = PCA(n_components = 13)\n",
    "#X_test=pca.fit_transform(X_test)"
   ]
  },
  {
   "cell_type": "markdown",
   "metadata": {},
   "source": [
    "Training on different classifiers"
   ]
  },
  {
   "cell_type": "code",
   "execution_count": 19,
   "metadata": {},
   "outputs": [],
   "source": [
    "def classifier(name, obj, params, x_train, y_train, x_test, y_test):\n",
    "    CV_rf = GridSearchCV(estimator=obj, param_grid=params, cv=5)\n",
    "    CV_rf.fit(x_train, y_train)\n",
    "    \n",
    "    y_pred_train = CV_rf.predict(x_train)\n",
    "    y_pred_test = CV_rf.predict(x_test)\n",
    "    \n",
    "    print(' ')\n",
    "    print('---------'+name+' Classifier--------')\n",
    "    \n",
    "    #Accuracy score\n",
    "    print(name+\" Train Accuracy: {0:.3f}\".format(float((y_pred_train==y_train).sum())/float(len(y_train))))\n",
    "    print(name+\" Test Accuracy: {0:.3f}\".format(float((y_pred_test==y_test).sum())/float(len(y_test))))\n",
    "    \n",
    "    #Classification Report\n",
    "    print(name+\" Classification Report: \")\n",
    "    print(classification_report(y_test, y_pred_test))\n",
    "    \n",
    "    #F1-Score\n",
    "    print(name+\" Training F1 Score: {0:.3f}\".format(f1_score(y_train, y_pred_train, average='weighted')))\n",
    "    print(name+\" Testing F1 Score: {0:.3f}\".format(f1_score(y_test, y_pred_test, average='weighted')))\n",
    "    \n",
    "    #AUC score\n",
    "    AUC_score_train=roc_auc_score(y_train, y_pred_train)\n",
    "    AUC_score_test=roc_auc_score(y_test, y_pred_test)\n",
    "    print(name+\" Training AUC Score: {0:.3f}\".format(AUC_score_train))\n",
    "    print(name+\" Testing AUC Score: {0:.3f}\".format(AUC_score_test))\n",
    "    \n",
    "   \n",
    "    #Confusion Matrix for test data\n",
    "    conf = confusion_matrix(y_test,y_pred_test).ravel()\n",
    "    plt.figure()\n",
    "    plt.title(name+' :Confusion Matrix')\n",
    "    conf=np.reshape(conf,(2,2))\n",
    "    plt.imshow(conf, cmap=plt.cm.Blues, interpolation='nearest')\n",
    "    plt.colorbar()\n",
    "    tick_marks = np.arange(2)\n",
    "    plt.xticks(tick_marks, ['Predicted No','Predicted Yes'])\n",
    "    plt.yticks(tick_marks, ['Actual No','Actual Yes'], rotation='vertical')\n",
    "    thresh = conf.max() / 2.\n",
    "    for i, j in itertools.product(range(conf.shape[0]), range(conf.shape[1])):\n",
    "        plt.text(j, i, conf[i, j],horizontalalignment=\"center\",color=\"white\" if conf[i, j] > thresh else \"black\")\n",
    "    plt.show()\n",
    "\n",
    "    #Visualize ROC-Curve for test data\n",
    "    fpr, tpr, threshold = roc_curve(y_test, y_pred_test)\n",
    "    plt.figure()\n",
    "    plt.plot(fpr,tpr,label=\"data 1, auc=\"+str(AUC_score_test)) \n",
    "    plt.xlabel('False Positive Rate (fpr)')\n",
    "    plt.ylabel('True Positive Rate (tpr)')\n",
    "    plt.title('Receiver operating characteristics (ROC): '+name)\n",
    "    plt.legend(loc=4)\n",
    "    plt.show()\n",
    "    "
   ]
  },
  {
   "cell_type": "code",
   "execution_count": 24,
   "metadata": {},
   "outputs": [
    {
     "name": "stdout",
     "output_type": "stream",
     "text": [
      " \n",
      "---------Random Forest Classifier--------\n",
      "Random Forest Train Accuracy: 0.999\n",
      "Random Forest Test Accuracy: 0.894\n",
      "Random Forest Classification Report: \n",
      "              precision    recall  f1-score   support\n",
      "\n",
      "           0       0.93      0.96      0.94       908\n",
      "           1       0.45      0.31      0.37       100\n",
      "\n",
      "    accuracy                           0.89      1008\n",
      "   macro avg       0.69      0.63      0.65      1008\n",
      "weighted avg       0.88      0.89      0.89      1008\n",
      "\n",
      "Random Forest Training F1 Score: 0.999\n",
      "Random Forest Testing F1 Score: 0.885\n",
      "Random Forest Training AUC Score: 0.999\n",
      "Random Forest Testing AUC Score: 0.634\n"
     ]
    },
    {
     "data": {
      "image/png": "[encoded data removed]",
      "text/plain": [
       "<Figure size 432x288 with 2 Axes>"
      ]
     },
     "metadata": {},
     "output_type": "display_data"
    },
    {
     "data": {
      "image/png": "[encoded data removed]",
      "text/plain": [
       "<Figure size 432x288 with 1 Axes>"
      ]
     },
     "metadata": {},
     "output_type": "display_data"
    }
   ],
   "source": [
    "#classifiers=[\"Random Forest\", \"SVM\", \"K Nearest Neighbors\", \"Naive Bayes\"]\n",
    "# Random Forest\n",
    "\n",
    "rf = RandomForestClassifier()\n",
    "params_grid = {\n",
    "    'n_estimators': range(1, 30),\n",
    "    'max_features': ['auto', 'sqrt', 'log2'],\n",
    "    }\n",
    "classifier('Random Forest', rf, params_grid, X_train, y_train_res, X_test, y_test)"
   ]
  },
  {
   "cell_type": "code",
   "execution_count": 21,
   "metadata": {},
   "outputs": [],
   "source": [
    "svc=SVC()\n",
    "param_grid = [{'kernel': ['rbf'], 'gamma': [1e-3, 1e-4],\n",
    "                     'C': [1, 10, 100, 1000]},\n",
    "                    {'kernel': ['linear'], 'C': [1, 10, 100, 1000]}]\n",
    "#classifier('SVM',svc,param_grid,X_train,y_train_res,X_test,y_test)"
   ]
  },
  {
   "cell_type": "code",
   "execution_count": 22,
   "metadata": {},
   "outputs": [],
   "source": [
    "kn = KNeighborsClassifier()\n",
    "param_grid = {\n",
    "    'n_neighbors': 5,\n",
    "    }\n",
    "#classifier('K Nearest Neighbors',kn,param_grid,X_train,y_train_res,X_test,y_test)"
   ]
  },
  {
   "cell_type": "code",
   "execution_count": 23,
   "metadata": {},
   "outputs": [],
   "source": [
    "naive_bayes = GaussianNB()\n",
    "#classifier('Naive Bayes',naive_bayes,{},X_train,y_train_res,X_test,y_test)"
   ]
  }
 ],
 "metadata": {
  "kernelspec": {
   "display_name": "Python 3",
   "language": "python",
   "name": "python3"
  },
  "language_info": {
   "codemirror_mode": {
    "name": "ipython",
    "version": 3
   },
   "file_extension": ".py",
   "mimetype": "text/x-python",
   "name": "python",
   "nbconvert_exporter": "python",
   "pygments_lexer": "ipython3",
   "version": "3.6.9"
  }
 },
 "nbformat": 4,
 "nbformat_minor": 2
}
